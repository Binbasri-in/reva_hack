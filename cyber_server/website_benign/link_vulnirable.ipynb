{
 "cells": [
  {
   "cell_type": "markdown",
   "metadata": {},
   "source": [
    "# Building Model for Website security prediction\n",
    "\n",
    "## Dataset:\n",
    "- [Dataset of Malicious and Benign Webpages](https://data.mendeley.com/datasets/gdx3pkwp47/1)\n",
    "\n",
    "Singh, AK (2020), “Dataset of Malicious and Benign Webpages”, Mendeley Data, V1, doi: 10.17632/gdx3pkwp47.1\n",
    "\n",
    "## Preprocessing and feature extraction:\n",
    "- Since the dataset is very huge and imbalanced, we have taken only 3000 samples from each class so total 6000 dataset avalable.\n",
    "- We considered only the label and the url column for our model building.\n",
    "- Since this dataset is for webpages we removed the path and only considered the domain name for our model building.\n",
    "- We pass each url to our scanning function to scan for vulnerabilities where they are the features"
   ]
  },
  {
   "cell_type": "code",
   "execution_count": 16,
   "metadata": {},
   "outputs": [],
   "source": [
    "import pandas as pd\n",
    "import numpy as np\n",
    "import matplotlib.pyplot as plt\n",
    "import seaborn as sns\n",
    "import requests\n"
   ]
  },
  {
   "cell_type": "code",
   "execution_count": 17,
   "metadata": {},
   "outputs": [
    {
     "data": {
      "text/html": [
       "<div>\n",
       "<style scoped>\n",
       "    .dataframe tbody tr th:only-of-type {\n",
       "        vertical-align: middle;\n",
       "    }\n",
       "\n",
       "    .dataframe tbody tr th {\n",
       "        vertical-align: top;\n",
       "    }\n",
       "\n",
       "    .dataframe thead th {\n",
       "        text-align: right;\n",
       "    }\n",
       "</style>\n",
       "<table border=\"1\" class=\"dataframe\">\n",
       "  <thead>\n",
       "    <tr style=\"text-align: right;\">\n",
       "      <th></th>\n",
       "      <th>Unnamed: 0</th>\n",
       "      <th>url</th>\n",
       "      <th>url_len</th>\n",
       "      <th>ip_add</th>\n",
       "      <th>geo_loc</th>\n",
       "      <th>tld</th>\n",
       "      <th>who_is</th>\n",
       "      <th>https</th>\n",
       "      <th>js_len</th>\n",
       "      <th>js_obf_len</th>\n",
       "      <th>content</th>\n",
       "      <th>label</th>\n",
       "    </tr>\n",
       "  </thead>\n",
       "  <tbody>\n",
       "    <tr>\n",
       "      <th>0</th>\n",
       "      <td>0</td>\n",
       "      <td>http://members.tripod.com/russiastation/</td>\n",
       "      <td>40</td>\n",
       "      <td>42.77.221.155</td>\n",
       "      <td>Taiwan</td>\n",
       "      <td>com</td>\n",
       "      <td>complete</td>\n",
       "      <td>yes</td>\n",
       "      <td>58.0</td>\n",
       "      <td>0.0</td>\n",
       "      <td>Named themselves charged particles in a manly ...</td>\n",
       "      <td>good</td>\n",
       "    </tr>\n",
       "    <tr>\n",
       "      <th>1</th>\n",
       "      <td>1</td>\n",
       "      <td>http://www.ddj.com/cpp/184403822</td>\n",
       "      <td>32</td>\n",
       "      <td>3.211.202.180</td>\n",
       "      <td>United States</td>\n",
       "      <td>com</td>\n",
       "      <td>complete</td>\n",
       "      <td>yes</td>\n",
       "      <td>52.5</td>\n",
       "      <td>0.0</td>\n",
       "      <td>And filipino field \\n \\n \\n \\n \\n \\n \\n \\n the...</td>\n",
       "      <td>good</td>\n",
       "    </tr>\n",
       "    <tr>\n",
       "      <th>2</th>\n",
       "      <td>2</td>\n",
       "      <td>http://www.naef-usa.com/</td>\n",
       "      <td>24</td>\n",
       "      <td>24.232.54.41</td>\n",
       "      <td>Argentina</td>\n",
       "      <td>com</td>\n",
       "      <td>complete</td>\n",
       "      <td>yes</td>\n",
       "      <td>103.5</td>\n",
       "      <td>0.0</td>\n",
       "      <td>Took in cognitivism, whose adherents argue for...</td>\n",
       "      <td>good</td>\n",
       "    </tr>\n",
       "    <tr>\n",
       "      <th>3</th>\n",
       "      <td>3</td>\n",
       "      <td>http://www.ff-b2b.de/</td>\n",
       "      <td>21</td>\n",
       "      <td>147.22.38.45</td>\n",
       "      <td>United States</td>\n",
       "      <td>de</td>\n",
       "      <td>incomplete</td>\n",
       "      <td>no</td>\n",
       "      <td>720.0</td>\n",
       "      <td>532.8</td>\n",
       "      <td>fire cumshot sodomize footaction tortur failed...</td>\n",
       "      <td>bad</td>\n",
       "    </tr>\n",
       "    <tr>\n",
       "      <th>4</th>\n",
       "      <td>4</td>\n",
       "      <td>http://us.imdb.com/title/tt0176269/</td>\n",
       "      <td>35</td>\n",
       "      <td>205.30.239.85</td>\n",
       "      <td>United States</td>\n",
       "      <td>com</td>\n",
       "      <td>complete</td>\n",
       "      <td>yes</td>\n",
       "      <td>46.5</td>\n",
       "      <td>0.0</td>\n",
       "      <td>Levant, also monsignor georges. In 1800, lists...</td>\n",
       "      <td>good</td>\n",
       "    </tr>\n",
       "  </tbody>\n",
       "</table>\n",
       "</div>"
      ],
      "text/plain": [
       "   Unnamed: 0                                       url  url_len  \\\n",
       "0           0  http://members.tripod.com/russiastation/       40   \n",
       "1           1          http://www.ddj.com/cpp/184403822       32   \n",
       "2           2                  http://www.naef-usa.com/       24   \n",
       "3           3                     http://www.ff-b2b.de/       21   \n",
       "4           4       http://us.imdb.com/title/tt0176269/       35   \n",
       "\n",
       "          ip_add        geo_loc  tld      who_is https  js_len  js_obf_len  \\\n",
       "0  42.77.221.155         Taiwan  com    complete   yes    58.0         0.0   \n",
       "1  3.211.202.180  United States  com    complete   yes    52.5         0.0   \n",
       "2   24.232.54.41      Argentina  com    complete   yes   103.5         0.0   \n",
       "3   147.22.38.45  United States   de  incomplete    no   720.0       532.8   \n",
       "4  205.30.239.85  United States  com    complete   yes    46.5         0.0   \n",
       "\n",
       "                                             content label  \n",
       "0  Named themselves charged particles in a manly ...  good  \n",
       "1  And filipino field \\n \\n \\n \\n \\n \\n \\n \\n the...  good  \n",
       "2  Took in cognitivism, whose adherents argue for...  good  \n",
       "3  fire cumshot sodomize footaction tortur failed...   bad  \n",
       "4  Levant, also monsignor georges. In 1800, lists...  good  "
      ]
     },
     "execution_count": 17,
     "metadata": {},
     "output_type": "execute_result"
    }
   ],
   "source": [
    "dataset = pd.read_csv('Webpages_Classification_train_data.csv')\n",
    "dataset.head()"
   ]
  },
  {
   "cell_type": "code",
   "execution_count": 18,
   "metadata": {},
   "outputs": [
    {
     "name": "stdout",
     "output_type": "stream",
     "text": [
      "<class 'pandas.core.frame.DataFrame'>\n",
      "RangeIndex: 1200000 entries, 0 to 1199999\n",
      "Data columns (total 12 columns):\n",
      " #   Column      Non-Null Count    Dtype  \n",
      "---  ------      --------------    -----  \n",
      " 0   Unnamed: 0  1200000 non-null  int64  \n",
      " 1   url         1200000 non-null  object \n",
      " 2   url_len     1200000 non-null  int64  \n",
      " 3   ip_add      1200000 non-null  object \n",
      " 4   geo_loc     1200000 non-null  object \n",
      " 5   tld         1200000 non-null  object \n",
      " 6   who_is      1200000 non-null  object \n",
      " 7   https       1200000 non-null  object \n",
      " 8   js_len      1200000 non-null  float64\n",
      " 9   js_obf_len  1200000 non-null  float64\n",
      " 10  content     1200000 non-null  object \n",
      " 11  label       1200000 non-null  object \n",
      "dtypes: float64(2), int64(2), object(8)\n",
      "memory usage: 109.9+ MB\n"
     ]
    }
   ],
   "source": [
    "dataset.info()"
   ]
  },
  {
   "cell_type": "code",
   "execution_count": 19,
   "metadata": {},
   "outputs": [
    {
     "data": {
      "text/plain": [
       "label\n",
       "good    1172747\n",
       "bad       27253\n",
       "Name: count, dtype: int64"
      ]
     },
     "execution_count": 19,
     "metadata": {},
     "output_type": "execute_result"
    }
   ],
   "source": [
    "dataset[\"label\"].value_counts()"
   ]
  },
  {
   "cell_type": "code",
   "execution_count": 20,
   "metadata": {},
   "outputs": [
    {
     "data": {
      "text/plain": [
       "url\n",
       "http://www.hiddenforest.co.nz/fungi/family/pluteaceae/amanita.htm    6\n",
       "http://www.fcc.gov/                                                  5\n",
       "http://cyber.law.harvard.edu/                                        5\n",
       "http://www.symbols.com/                                              5\n",
       "http://omacl.org/                                                    5\n",
       "                                                                    ..\n",
       "http://www.falconups.com/                                            1\n",
       "http://www.angelfire.com/ga2/ewanlinks/main.html                     1\n",
       "http://www.unidata.ucar.edu/packages/dods/                           1\n",
       "http://www.geocities.com/sunsetstrip/birdland/8001/football.html     1\n",
       "http://homepages.gotadsl.co.uk/~jgm/ekmm/                            1\n",
       "Name: count, Length: 1171470, dtype: int64"
      ]
     },
     "execution_count": 20,
     "metadata": {},
     "output_type": "execute_result"
    }
   ],
   "source": [
    "# check for repeted website, no need to check multiple pages just the main link is needed\n",
    "dataset[\"url\"].value_counts()"
   ]
  },
  {
   "cell_type": "code",
   "execution_count": 21,
   "metadata": {},
   "outputs": [
    {
     "data": {
      "text/html": [
       "<div>\n",
       "<style scoped>\n",
       "    .dataframe tbody tr th:only-of-type {\n",
       "        vertical-align: middle;\n",
       "    }\n",
       "\n",
       "    .dataframe tbody tr th {\n",
       "        vertical-align: top;\n",
       "    }\n",
       "\n",
       "    .dataframe thead th {\n",
       "        text-align: right;\n",
       "    }\n",
       "</style>\n",
       "<table border=\"1\" class=\"dataframe\">\n",
       "  <thead>\n",
       "    <tr style=\"text-align: right;\">\n",
       "      <th></th>\n",
       "      <th>Unnamed: 0</th>\n",
       "      <th>url</th>\n",
       "      <th>url_len</th>\n",
       "      <th>ip_add</th>\n",
       "      <th>geo_loc</th>\n",
       "      <th>tld</th>\n",
       "      <th>who_is</th>\n",
       "      <th>https</th>\n",
       "      <th>js_len</th>\n",
       "      <th>js_obf_len</th>\n",
       "      <th>content</th>\n",
       "      <th>label</th>\n",
       "      <th>base_url</th>\n",
       "    </tr>\n",
       "  </thead>\n",
       "  <tbody>\n",
       "    <tr>\n",
       "      <th>0</th>\n",
       "      <td>0</td>\n",
       "      <td>http://members.tripod.com/russiastation/</td>\n",
       "      <td>40</td>\n",
       "      <td>42.77.221.155</td>\n",
       "      <td>Taiwan</td>\n",
       "      <td>com</td>\n",
       "      <td>complete</td>\n",
       "      <td>yes</td>\n",
       "      <td>58.0</td>\n",
       "      <td>0.0</td>\n",
       "      <td>Named themselves charged particles in a manly ...</td>\n",
       "      <td>good</td>\n",
       "      <td>http://members.tripod.com</td>\n",
       "    </tr>\n",
       "    <tr>\n",
       "      <th>1</th>\n",
       "      <td>1</td>\n",
       "      <td>http://www.ddj.com/cpp/184403822</td>\n",
       "      <td>32</td>\n",
       "      <td>3.211.202.180</td>\n",
       "      <td>United States</td>\n",
       "      <td>com</td>\n",
       "      <td>complete</td>\n",
       "      <td>yes</td>\n",
       "      <td>52.5</td>\n",
       "      <td>0.0</td>\n",
       "      <td>And filipino field \\n \\n \\n \\n \\n \\n \\n \\n the...</td>\n",
       "      <td>good</td>\n",
       "      <td>http://www.ddj.com</td>\n",
       "    </tr>\n",
       "    <tr>\n",
       "      <th>2</th>\n",
       "      <td>2</td>\n",
       "      <td>http://www.naef-usa.com/</td>\n",
       "      <td>24</td>\n",
       "      <td>24.232.54.41</td>\n",
       "      <td>Argentina</td>\n",
       "      <td>com</td>\n",
       "      <td>complete</td>\n",
       "      <td>yes</td>\n",
       "      <td>103.5</td>\n",
       "      <td>0.0</td>\n",
       "      <td>Took in cognitivism, whose adherents argue for...</td>\n",
       "      <td>good</td>\n",
       "      <td>http://www.naef-usa.com</td>\n",
       "    </tr>\n",
       "    <tr>\n",
       "      <th>3</th>\n",
       "      <td>3</td>\n",
       "      <td>http://www.ff-b2b.de/</td>\n",
       "      <td>21</td>\n",
       "      <td>147.22.38.45</td>\n",
       "      <td>United States</td>\n",
       "      <td>de</td>\n",
       "      <td>incomplete</td>\n",
       "      <td>no</td>\n",
       "      <td>720.0</td>\n",
       "      <td>532.8</td>\n",
       "      <td>fire cumshot sodomize footaction tortur failed...</td>\n",
       "      <td>bad</td>\n",
       "      <td>http://www.ff-b2b.de</td>\n",
       "    </tr>\n",
       "    <tr>\n",
       "      <th>4</th>\n",
       "      <td>4</td>\n",
       "      <td>http://us.imdb.com/title/tt0176269/</td>\n",
       "      <td>35</td>\n",
       "      <td>205.30.239.85</td>\n",
       "      <td>United States</td>\n",
       "      <td>com</td>\n",
       "      <td>complete</td>\n",
       "      <td>yes</td>\n",
       "      <td>46.5</td>\n",
       "      <td>0.0</td>\n",
       "      <td>Levant, also monsignor georges. In 1800, lists...</td>\n",
       "      <td>good</td>\n",
       "      <td>http://us.imdb.com</td>\n",
       "    </tr>\n",
       "  </tbody>\n",
       "</table>\n",
       "</div>"
      ],
      "text/plain": [
       "   Unnamed: 0                                       url  url_len  \\\n",
       "0           0  http://members.tripod.com/russiastation/       40   \n",
       "1           1          http://www.ddj.com/cpp/184403822       32   \n",
       "2           2                  http://www.naef-usa.com/       24   \n",
       "3           3                     http://www.ff-b2b.de/       21   \n",
       "4           4       http://us.imdb.com/title/tt0176269/       35   \n",
       "\n",
       "          ip_add        geo_loc  tld      who_is https  js_len  js_obf_len  \\\n",
       "0  42.77.221.155         Taiwan  com    complete   yes    58.0         0.0   \n",
       "1  3.211.202.180  United States  com    complete   yes    52.5         0.0   \n",
       "2   24.232.54.41      Argentina  com    complete   yes   103.5         0.0   \n",
       "3   147.22.38.45  United States   de  incomplete    no   720.0       532.8   \n",
       "4  205.30.239.85  United States  com    complete   yes    46.5         0.0   \n",
       "\n",
       "                                             content label  \\\n",
       "0  Named themselves charged particles in a manly ...  good   \n",
       "1  And filipino field \\n \\n \\n \\n \\n \\n \\n \\n the...  good   \n",
       "2  Took in cognitivism, whose adherents argue for...  good   \n",
       "3  fire cumshot sodomize footaction tortur failed...   bad   \n",
       "4  Levant, also monsignor georges. In 1800, lists...  good   \n",
       "\n",
       "                    base_url  \n",
       "0  http://members.tripod.com  \n",
       "1         http://www.ddj.com  \n",
       "2    http://www.naef-usa.com  \n",
       "3       http://www.ff-b2b.de  \n",
       "4         http://us.imdb.com  "
      ]
     },
     "execution_count": 21,
     "metadata": {},
     "output_type": "execute_result"
    }
   ],
   "source": [
    "# trim the url to get the main link (http or https, domain) any thing after the / is should be trimmed use regex r'^(https?://)?([\\da-z\\.-]+)\\.([a-z\\.]{2,6})'\n",
    "import re\n",
    "def extract_base_url(url):\n",
    "    # This regex will match the protocol (http/https), domain, and top-level domain\n",
    "    regex = r'^(https?://)?([\\da-z\\.-]+)\\.([a-z\\.]{2,6})'\n",
    "    match = re.match(regex, url)\n",
    "    if match:\n",
    "        # This will concatenate the matched groups to form the base URL\n",
    "        return match.group(0)\n",
    "    else:\n",
    "        return None\n",
    "\n",
    "dataset[\"base_url\"] = dataset[\"url\"].apply(extract_base_url)\n",
    "dataset.head()"
   ]
  },
  {
   "cell_type": "code",
   "execution_count": 22,
   "metadata": {},
   "outputs": [
    {
     "name": "stdout",
     "output_type": "stream",
     "text": [
      "<class 'pandas.core.frame.DataFrame'>\n",
      "RangeIndex: 1200000 entries, 0 to 1199999\n",
      "Data columns (total 2 columns):\n",
      " #   Column    Non-Null Count    Dtype \n",
      "---  ------    --------------    ----- \n",
      " 0   base_url  1198752 non-null  object\n",
      " 1   label     1200000 non-null  object\n",
      "dtypes: object(2)\n",
      "memory usage: 18.3+ MB\n"
     ]
    }
   ],
   "source": [
    "# get the base_url and label only\n",
    "dataset = dataset[[\"base_url\", \"label\"]]\n",
    "dataset.info()"
   ]
  },
  {
   "cell_type": "code",
   "execution_count": 23,
   "metadata": {},
   "outputs": [
    {
     "name": "stdout",
     "output_type": "stream",
     "text": [
      "<class 'pandas.core.frame.DataFrame'>\n",
      "Index: 760595 entries, 0 to 1199999\n",
      "Data columns (total 2 columns):\n",
      " #   Column    Non-Null Count   Dtype \n",
      "---  ------    --------------   ----- \n",
      " 0   base_url  760593 non-null  object\n",
      " 1   label     760595 non-null  object\n",
      "dtypes: object(2)\n",
      "memory usage: 17.4+ MB\n"
     ]
    }
   ],
   "source": [
    "# remove duplicates\n",
    "dataset = dataset.drop_duplicates()\n",
    "dataset.info()"
   ]
  },
  {
   "cell_type": "code",
   "execution_count": 24,
   "metadata": {},
   "outputs": [
    {
     "data": {
      "text/plain": [
       "label\n",
       "good    742332\n",
       "bad      18263\n",
       "Name: count, dtype: int64"
      ]
     },
     "execution_count": 24,
     "metadata": {},
     "output_type": "execute_result"
    }
   ],
   "source": [
    "dataset[\"label\"].value_counts()"
   ]
  },
  {
   "cell_type": "code",
   "execution_count": 25,
   "metadata": {},
   "outputs": [
    {
     "name": "stdout",
     "output_type": "stream",
     "text": [
      "<class 'pandas.core.frame.DataFrame'>\n",
      "Index: 36526 entries, 976874 to 1199910\n",
      "Data columns (total 2 columns):\n",
      " #   Column    Non-Null Count  Dtype \n",
      "---  ------    --------------  ----- \n",
      " 0   base_url  36525 non-null  object\n",
      " 1   label     36526 non-null  object\n",
      "dtypes: object(2)\n",
      "memory usage: 856.1+ KB\n"
     ]
    }
   ],
   "source": [
    "# balance the dataset since label good is more than label bad\n",
    "dataset_good = dataset[dataset[\"label\"] == \"good\"]\n",
    "dataset_bad = dataset[dataset[\"label\"] == \"bad\"]\n",
    "dataset_good = dataset_good.sample(dataset_bad.shape[0])\n",
    "dataset = pd.concat([dataset_good, dataset_bad])\n",
    "dataset.info()"
   ]
  },
  {
   "cell_type": "code",
   "execution_count": 26,
   "metadata": {},
   "outputs": [],
   "source": [
    "# check for null values\n",
    "dataset.isnull().sum()\n",
    "\n",
    "# remove null values\n",
    "dataset = dataset.dropna()"
   ]
  },
  {
   "cell_type": "code",
   "execution_count": 27,
   "metadata": {},
   "outputs": [
    {
     "name": "stdout",
     "output_type": "stream",
     "text": [
      "<class 'pandas.core.frame.DataFrame'>\n",
      "Index: 36525 entries, 976874 to 1199910\n",
      "Data columns (total 2 columns):\n",
      " #   Column    Non-Null Count  Dtype \n",
      "---  ------    --------------  ----- \n",
      " 0   base_url  36525 non-null  object\n",
      " 1   label     36525 non-null  object\n",
      "dtypes: object(2)\n",
      "memory usage: 856.1+ KB\n"
     ]
    }
   ],
   "source": [
    "# the final dataset\n",
    "dataset.info()"
   ]
  },
  {
   "cell_type": "code",
   "execution_count": 28,
   "metadata": {},
   "outputs": [
    {
     "name": "stdout",
     "output_type": "stream",
     "text": [
      "<class 'pandas.core.frame.DataFrame'>\n",
      "RangeIndex: 1000 entries, 0 to 999\n",
      "Data columns (total 2 columns):\n",
      " #   Column    Non-Null Count  Dtype \n",
      "---  ------    --------------  ----- \n",
      " 0   base_url  1000 non-null   object\n",
      " 1   label     1000 non-null   object\n",
      "dtypes: object(2)\n",
      "memory usage: 15.8+ KB\n"
     ]
    }
   ],
   "source": [
    "# reduce the dataset more and keep only 6000 url from both good and bad\n",
    "dataset_good = dataset[dataset[\"label\"] == \"good\"]\n",
    "dataset_bad = dataset[dataset[\"label\"] == \"bad\"]\n",
    "\n",
    "# keep only 3000 url on each dataset\n",
    "dataset = pd.concat([dataset_good[:500], dataset_bad[:500]])\n",
    "\n",
    "# shuffle the dataset\n",
    "dataset = dataset.sample(frac=1).reset_index(drop=True)\n",
    "\n",
    "dataset.info()"
   ]
  },
  {
   "cell_type": "code",
   "execution_count": 29,
   "metadata": {},
   "outputs": [],
   "source": [
    "from vulner import *\n",
    "\n",
    "vulnerability_checks = {\n",
    "    \"SQL Injection\": is_sql_injection_check,\n",
    "    \"Cross-Site Scripting (XSS)\": is_xss_vulnerable,\n",
    "    \"Command Injection\": is_command_injection_vulnerable,\n",
    "    \"Remote File Inclusion Vulnerability\": is_remote_file_inclusion_vulnerable,\n",
    "    \"Server-Side Request Forgery (SSRF)\": is_ssrf_vulnerable,\n",
    "    \"Unvalidated Redirect Vulnerability\": is_unvalidated_redirect_vulnerable,\n",
    "    \"Cross-Site Request Forgery (CSRF) Vulnerability\": is_csrf_vulnerable,\n",
    "    \"Remote Code Execution (RCE) Vulnerability\": is_rce_vulnerable,\n",
    "    \"Cross-Site Script Inclusion (XSSI) Vulnerability\": is_xssi_vulnerable,\n",
    "    \"File Upload Vulnerability\": is_file_upload_vulnerable,\n",
    "    \"Insecure Direct  (IDOR)\": is_idor_vulnerable,\n",
    "    \"XML External Entity (XXE) Vulnerability\": is_xxe_vulnerable,\n",
    "    \"Server-Side Template Injection (SSTI) Vulnerability\": is_ssti_vulnerable,\n",
    "    \"Remote Code Inclusion (RCI) Vulnerability\": is_rci_vulnerable,\n",
    "    \"Server-Side Template Injection (SSTI)\": is_ssti_templating_vulnerable,\n",
    "    \"Insecure Deserialization\": is_insecure_deserialization_vulnerable,\n",
    "    \"Server-Side Request\": is_ssrf_dns_rebinding_vulnerable,\n",
    "    \"Clickjacking Vulnerability\": is_clickjacking_vulnerable,\n",
    "    \"Security Misconfiguration\": is_security_misconfiguration_vulnerable,\n",
    "    \"Cross-Site Scripting\": is_dom_based_xss_vulnerable,\n",
    "    \"Open Redirect Vulnerability\": check_open_redirect,\n",
    "    \"Cross-Origin Resource\": check_cors_misconfiguration,\n",
    "    \"Cross-Site Script\": is_xssi_json_vulnerable,\n",
    "    \"Content Security Policy\": is_csp_bypass_vulnerable,\n",
    "    \"Insecure Cross-Origin\": is_insecure_cors_configured,\n",
    "    \"HTTP Parameter Pollution Vulnerability\": check_http_parameter_pollution,\n",
    "    \"Insufficient Transport\": check_transport_layer_protection,\n",
    "}"
   ]
  },
  {
   "cell_type": "code",
   "execution_count": 30,
   "metadata": {},
   "outputs": [],
   "source": [
    "# try for few examples create an array to store the result where is it true or false or fail\n",
    "# result = []\n",
    "# for i in dataset['base_url'].head():\n",
    "#     url = i\n",
    "#     subresult = []\n",
    "#     print(i)\n",
    "#     print('------------------')\n",
    "#     for key, check in vulnerability_checks.items():\n",
    "#         try:\n",
    "#             subresult.append(check(url))\n",
    "#         except:\n",
    "#             subresult.append('fail')\n",
    "#     print(subresult)\n",
    "#     result.append(subresult)\n"
   ]
  },
  {
   "cell_type": "code",
   "execution_count": 31,
   "metadata": {},
   "outputs": [
    {
     "data": {
      "text/plain": [
       "0     bad\n",
       "1     bad\n",
       "2    good\n",
       "3    good\n",
       "4     bad\n",
       "Name: label, dtype: object"
      ]
     },
     "execution_count": 31,
     "metadata": {},
     "output_type": "execute_result"
    }
   ],
   "source": [
    "dataset['label'].head()"
   ]
  },
  {
   "cell_type": "code",
   "execution_count": 32,
   "metadata": {},
   "outputs": [
    {
     "name": "stdout",
     "output_type": "stream",
     "text": [
      "SQL Injection Vulnerability Detected!\n",
      "SQL Injection Vulnerability Detected!\n",
      "SQL Injection Vulnerability Detected!\n",
      "SQL Injection Vulnerability Detected!\n",
      "SQL Injection Vulnerability Detected!\n"
     ]
    }
   ],
   "source": [
    "# apply these functions to each row in the dataset\n",
    "for key, check in vulnerability_checks.items():\n",
    "    # iterate through each row in the dataset\n",
    "    for index, row in dataset.iterrows():\n",
    "        # get the url\n",
    "        url = row['base_url']\n",
    "        # check the url\n",
    "        try:\n",
    "            dataset.loc[index, key] = check(url)\n",
    "        except:\n",
    "            # delete that row\n",
    "            dataset.drop(index, inplace=True)\n",
    "            continue\n",
    "\n",
    "dataset.head()"
   ]
  }
 ],
 "metadata": {
  "kernelspec": {
   "display_name": "datascience",
   "language": "python",
   "name": "python3"
  },
  "language_info": {
   "codemirror_mode": {
    "name": "ipython",
    "version": 3
   },
   "file_extension": ".py",
   "mimetype": "text/x-python",
   "name": "python",
   "nbconvert_exporter": "python",
   "pygments_lexer": "ipython3",
   "version": "3.11.4"
  }
 },
 "nbformat": 4,
 "nbformat_minor": 2
}
